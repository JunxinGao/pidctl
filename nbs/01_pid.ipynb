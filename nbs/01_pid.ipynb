{
 "cells": [
  {
   "cell_type": "code",
   "execution_count": 1,
   "source": [
    "# default_exp pid"
   ],
   "outputs": [],
   "metadata": {}
  },
  {
   "cell_type": "markdown",
   "source": [
    "# pid\n",
    "\n",
    "> API details."
   ],
   "metadata": {}
  },
  {
   "cell_type": "code",
   "execution_count": 1,
   "source": [
    "#hide\n",
    "from nbdev.showdoc import *"
   ],
   "outputs": [],
   "metadata": {}
  },
  {
   "cell_type": "code",
   "execution_count": 2,
   "source": [
    "#export\n",
    "from pidctl.imports import *\n",
    "from pidctl.core import kwargs2str"
   ],
   "outputs": [],
   "metadata": {}
  },
  {
   "cell_type": "code",
   "execution_count": 22,
   "source": [
    "#export\n",
    "class Pid:\n",
    "    def __init__(self, Kp=0, Ki=0, Kd=0, set_point=0, sample_time=0.01) -> None:\n",
    "        self.Kp, self.Ki, self.Kd = Kp, Ki, Kd\n",
    "        self.set_point = set_point\n",
    "        self.sample_time = sample_time\n",
    "        self._last_error, self._proportional, self._integral, self._derivative = 0, 0, 0, 0\n",
    "        self._last_time, self._last_output, self._last_input = None, None, None\n",
    "    \n",
    "    def __call__(self, input):\n",
    "        error = self.set_point - input\n",
    "        current_time = time.time()\n",
    "        dt = current_time - self._last_time if self._last_time is not None else 1e-16\n",
    "        d_input = input - (self._last_input if (self._last_input is not None) else input)\n",
    "        if self.sample_time is not None and dt < self.sample_time and self._last_output is not None: return self._last_output\n",
    "        self._proportional = self.Kp * error\n",
    "        self._integral += self.Ki * error * dt\n",
    "        self._derivative = -self.Kd * d_input / dt\n",
    "        output = self._proportional + self._integral + self._derivative\n",
    "        self._last_output = output\n",
    "        self._last_input = input\n",
    "        self._last_time = current_time\n",
    "        return output\n",
    "    \n",
    "    def __repr__(self):\n",
    "        return f\"Pid params:\\n{kwargs2str(kp=self.Kp, ki=self.Ki, kd=self.Kd, set_point=self.set_point, sample_time=self.sample_time)}\\n\""
   ],
   "outputs": [],
   "metadata": {}
  },
  {
   "cell_type": "code",
   "execution_count": 23,
   "source": [
    "Pid()"
   ],
   "outputs": [
    {
     "output_type": "execute_result",
     "data": {
      "text/plain": [
       "Pid params:\n",
       "kp: 0, ki: 0, kd: 0, set_point: 0, sample_time: 0.01"
      ]
     },
     "metadata": {},
     "execution_count": 23
    }
   ],
   "metadata": {}
  },
  {
   "cell_type": "code",
   "execution_count": 24,
   "source": [
    "class ACSimulator:\n",
    "    def __init__(self, room_temp) -> None:\n",
    "        self.room_temp = room_temp\n",
    "        self._initial_room_temp = room_temp\n",
    "    \n",
    "    def update(self, cool_power, dt):\n",
    "        if cool_power > 0:\n",
    "            self.room_temp -= 1 * cool_power * dt\n",
    "        else:\n",
    "            self.room_temp += 1 * cool_power * dt\n",
    "        self.room_temp += (self._initial_room_temp - self.room_temp) * 0.02 * dt\n",
    "        return self.room_temp"
   ],
   "outputs": [],
   "metadata": {}
  },
  {
   "cell_type": "code",
   "execution_count": 25,
   "source": [
    "room_temp = 32\n",
    "ac = ACSimulator(room_temp)\n",
    "pid = Pid(5, 0.01, 0.1, set_point=room_temp)\n",
    "start_time = time.time()\n",
    "last_time = start_time\n",
    "setpoint, y, x = [], [], []"
   ],
   "outputs": [],
   "metadata": {}
  },
  {
   "cell_type": "code",
   "execution_count": 26,
   "source": [
    "pid"
   ],
   "outputs": [
    {
     "output_type": "execute_result",
     "data": {
      "text/plain": [
       "Pid params:\n",
       "kp: 5, ki: 0.01, kd: 0.1, set_point: 32, sample_time: 0.01"
      ]
     },
     "metadata": {},
     "execution_count": 26
    }
   ],
   "metadata": {}
  },
  {
   "cell_type": "code",
   "execution_count": 27,
   "source": [
    "while time.time() - start_time < 10:\n",
    "    current_time = time.time()\n",
    "    dt = current_time - last_time\n",
    "\n",
    "    power = pid(room_temp)\n",
    "    room_temp = ac.update(power, dt)\n",
    "\n",
    "    x += [current_time - start_time]\n",
    "    y += [room_temp]\n",
    "    setpoint += [pid.set_point]\n",
    "\n",
    "    if current_time - start_time > 1:\n",
    "        pid.set_point = 23\n",
    "    last_time = current_time"
   ],
   "outputs": [],
   "metadata": {}
  },
  {
   "cell_type": "code",
   "execution_count": 29,
   "source": [
    "import matplotlib.pyplot as plt\n",
    "plt.plot(x, y, label='measured')\n",
    "plt.plot(x, setpoint, label='target')\n",
    "plt.xlabel('time')\n",
    "plt.ylabel('temperature')\n",
    "plt.legend()\n",
    "plt.show()"
   ],
   "outputs": [
    {
     "output_type": "display_data",
     "data": {
      "text/plain": [
       "<Figure size 432x288 with 1 Axes>"
      ],
      "image/png": "[encoded data removed]"
     },
     "metadata": {
      "needs_background": "light"
     }
    }
   ],
   "metadata": {}
  },
  {
   "cell_type": "code",
   "execution_count": null,
   "source": [],
   "outputs": [],
   "metadata": {}
  }
 ],
 "metadata": {
  "interpreter": {
   "hash": "a7fe057d0c9ee00873c1158c26f433bb93b25e835d748ab1d2b96b6108282de5"
  },
  "kernelspec": {
   "display_name": "Python 3",
   "language": "python",
   "name": "python3"
  },
  "language_info": {
   "codemirror_mode": {
    "name": "ipython",
    "version": 3
   },
   "file_extension": ".py",
   "mimetype": "text/x-python",
   "name": "python",
   "nbconvert_exporter": "python",
   "pygments_lexer": "ipython3",
   "version": "3.8.5"
  }
 },
 "nbformat": 4,
 "nbformat_minor": 2
}