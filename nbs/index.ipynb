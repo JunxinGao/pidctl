{
 "cells": [
  {
   "cell_type": "code",
   "execution_count": null,
   "source": [
    "#hide\n",
    "#from your_lib.core import *"
   ],
   "outputs": [],
   "metadata": {}
  },
  {
   "cell_type": "markdown",
   "source": [
    "# pidctl study\n"
   ],
   "metadata": {}
  },
  {
   "cell_type": "markdown",
   "source": [
    "![CI](https://github.com/junxingao/pidctl/workflows/CI/badge.svg) ![docs](https://github.com/junxingao/pidctl/workflows/docs/badge.svg)"
   ],
   "metadata": {}
  },
  {
   "cell_type": "markdown",
   "source": [
    "- This project generate from [nbdev](https://nbdev.fast.ai/)"
   ],
   "metadata": {}
  },
  {
   "cell_type": "markdown",
   "source": [
    "# Others\n",
    "<details>\n",
    "  <summary>as template</summary>\n",
    "  ~~~\n",
    "  sed -i '' 's/pidctl/YOUR_LIB_NAME/g' `grep -inr pidctl -rl .`\n",
    "  mv pidctl YOUR_LIB_NAME\n",
    "  ~~~\n",
    "</details>"
   ],
   "metadata": {}
  }
 ],
 "metadata": {
  "kernelspec": {
   "display_name": "Python 3",
   "language": "python",
   "name": "python3"
  }
 },
 "nbformat": 4,
 "nbformat_minor": 2
}